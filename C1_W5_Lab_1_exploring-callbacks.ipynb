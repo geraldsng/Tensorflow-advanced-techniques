{
 "cells": [
  {
   "cell_type": "markdown",
   "metadata": {
    "colab_type": "text",
    "id": "view-in-github"
   },
   "source": [
    "<a href=\"https://colab.research.google.com/github/https-deeplearning-ai/tensorflow-3-public/blob/main/Course%201%20-%20Custom%20Models%2C%20Layers%20and%20Loss%20Functions/Week%205%20-%20Callbacks/C1_W5_Lab_1_exploring-callbacks.ipynb\" target=\"_parent\"><img src=\"https://colab.research.google.com/assets/colab-badge.svg\" alt=\"Open In Colab\"/></a>"
   ]
  },
  {
   "cell_type": "markdown",
   "metadata": {
    "colab_type": "text",
    "id": "0c_TYhQOUe1j"
   },
   "source": [
    "# Ungraded Lab: Introduction to Keras callbacks\n",
    "\n",
    "In Keras, `Callback` is a Python class meant to be subclassed to provide specific functionality, with a set of methods called at various stages of training (including batch/epoch start and ends), testing, and predicting. Callbacks are useful to get a view on internal states and statistics of the model during training. The methods of the callbacks can  be called at different stages of training/evaluating/inference. Keras has available [callbacks](https://keras.io/api/callbacks/) and we'll show how you can use it in the following sections. Please click the **Open in Colab** badge above to complete this exercise in Colab. This will allow you to take advantage of the free GPU runtime (for faster training) and compatibility with all the packages needed in this notebook."
   ]
  },
  {
   "cell_type": "markdown",
   "metadata": {
    "colab_type": "text",
    "id": "Uyl69EyRQx-f"
   },
   "source": [
    "## Model methods that take callbacks\n",
    "Users can supply a list of callbacks to the following `tf.keras.Model` methods:\n",
    "* [`fit()`](https://www.tensorflow.org/versions/r2.0/api_docs/python/tf/keras/Model#fit), [`fit_generator()`](https://www.tensorflow.org/versions/r2.0/api_docs/python/tf/keras/Model#fit_generator)\n",
    "Trains the model for a fixed number of epochs (iterations over a dataset, or data yielded batch-by-batch by a Python generator).\n",
    "* [`evaluate()`](https://www.tensorflow.org/versions/r2.0/api_docs/python/tf/keras/Model#evaluate), [`evaluate_generator()`](https://www.tensorflow.org/versions/r2.0/api_docs/python/tf/keras/Model#evaluate_generator)\n",
    "Evaluates the model for given data or data generator. Outputs the loss and metric values from the evaluation.\n",
    "* [`predict()`](https://www.tensorflow.org/versions/r2.0/api_docs/python/tf/keras/Model#predict), [`predict_generator()`](https://www.tensorflow.org/versions/r2.0/api_docs/python/tf/keras/Model#predict_generator)\n",
    "Generates output predictions for the input data or data generator."
   ]
  },
  {
   "cell_type": "markdown",
   "metadata": {},
   "source": [
    "## Imports"
   ]
  },
  {
   "cell_type": "code",
   "execution_count": 1,
   "metadata": {
    "colab": {},
    "colab_type": "code",
    "id": "AlT1Kh3uA9lZ"
   },
   "outputs": [
    {
     "name": "stdout",
     "output_type": "stream",
     "text": [
      "Version:  2.1.0\n"
     ]
    }
   ],
   "source": [
    "from __future__ import absolute_import, division, print_function, unicode_literals\n",
    "\n",
    "try:\n",
    "    # %tensorflow_version only exists in Colab.\n",
    "    %tensorflow_version 2.x\n",
    "except Exception:\n",
    "    pass\n",
    "\n",
    "import tensorflow as tf\n",
    "import tensorflow_datasets as tfds\n",
    "import matplotlib.pyplot as plt\n",
    "import io\n",
    "from PIL import Image\n",
    "\n",
    "from tensorflow.keras.callbacks import TensorBoard, EarlyStopping, LearningRateScheduler, ModelCheckpoint, CSVLogger, ReduceLROnPlateau\n",
    "%load_ext tensorboard\n",
    "\n",
    "import os\n",
    "import matplotlib.pylab as plt\n",
    "import numpy as np\n",
    "import math\n",
    "import datetime\n",
    "import pandas as pd\n",
    "\n",
    "print(\"Version: \", tf.__version__)\n",
    "tf.get_logger().setLevel('INFO')"
   ]
  },
  {
   "cell_type": "markdown",
   "metadata": {
    "colab_type": "text",
    "id": "HnSljqtsXKfb"
   },
   "source": [
    "# Examples of Keras callback applications\n",
    "The following section will guide you through creating simple [Callback](https://keras.io/api/callbacks/) applications."
   ]
  },
  {
   "cell_type": "code",
   "execution_count": 2,
   "metadata": {
    "colab": {},
    "colab_type": "code",
    "id": "spskRuxvCYQE"
   },
   "outputs": [],
   "source": [
    "# Download and prepare the horses or humans dataset\n",
    "\n",
    "# horses_or_humans 3.0.0 has already been downloaded for you\n",
    "path = \"./tensorflow_datasets\"\n",
    "splits, info = tfds.load('horses_or_humans', data_dir=path, as_supervised=True, with_info=True, split=['train[:80%]', 'train[80%:]', 'test'])\n",
    "\n",
    "(train_examples, validation_examples, test_examples) = splits\n",
    "\n",
    "num_examples = info.splits['train'].num_examples\n",
    "num_classes = info.features['label'].num_classes"
   ]
  },
  {
   "cell_type": "code",
   "execution_count": 3,
   "metadata": {
    "colab": {},
    "colab_type": "code",
    "id": "veIsubKTCZsN"
   },
   "outputs": [],
   "source": [
    "SIZE = 150 #@param {type:\"slider\", min:64, max:300, step:1}\n",
    "IMAGE_SIZE = (SIZE, SIZE)"
   ]
  },
  {
   "cell_type": "code",
   "execution_count": 4,
   "metadata": {
    "colab": {},
    "colab_type": "code",
    "id": "faajLlErCb1S"
   },
   "outputs": [],
   "source": [
    "def format_image(image, label):\n",
    "  image = tf.image.resize(image, IMAGE_SIZE) / 255.0\n",
    "  return  image, label"
   ]
  },
  {
   "cell_type": "code",
   "execution_count": 5,
   "metadata": {
    "colab": {},
    "colab_type": "code",
    "id": "AVXPuU12Cdka"
   },
   "outputs": [],
   "source": [
    "BATCH_SIZE = 32 #@param {type:\"integer\"}"
   ]
  },
  {
   "cell_type": "code",
   "execution_count": 6,
   "metadata": {
    "colab": {},
    "colab_type": "code",
    "id": "0lHDkFVaCe48"
   },
   "outputs": [],
   "source": [
    "train_batches = train_examples.shuffle(num_examples // 4).map(format_image).batch(BATCH_SIZE).prefetch(1)\n",
    "validation_batches = validation_examples.map(format_image).batch(BATCH_SIZE).prefetch(1)\n",
    "test_batches = test_examples.map(format_image).batch(1)"
   ]
  },
  {
   "cell_type": "code",
   "execution_count": 7,
   "metadata": {
    "colab": {},
    "colab_type": "code",
    "id": "DxsCqEIkCgUt"
   },
   "outputs": [
    {
     "data": {
      "text/plain": [
       "TensorShape([32, 150, 150, 3])"
      ]
     },
     "execution_count": 7,
     "metadata": {},
     "output_type": "execute_result"
    }
   ],
   "source": [
    "for image_batch, label_batch in train_batches.take(1):\n",
    "  pass\n",
    "\n",
    "image_batch.shape"
   ]
  },
  {
   "cell_type": "code",
   "execution_count": 8,
   "metadata": {
    "colab": {},
    "colab_type": "code",
    "id": "iDBpWvHXCh2A"
   },
   "outputs": [],
   "source": [
    "def build_model(dense_units, input_shape=IMAGE_SIZE + (3,)):\n",
    "  model = tf.keras.models.Sequential([\n",
    "      tf.keras.layers.Conv2D(16, (3, 3), activation='relu', input_shape=input_shape),\n",
    "      tf.keras.layers.MaxPooling2D(2, 2),\n",
    "      tf.keras.layers.Conv2D(32, (3, 3), activation='relu'),\n",
    "      tf.keras.layers.MaxPooling2D(2, 2),\n",
    "      tf.keras.layers.Conv2D(64, (3, 3), activation='relu'),\n",
    "      tf.keras.layers.MaxPooling2D(2, 2),\n",
    "      tf.keras.layers.Flatten(),\n",
    "      tf.keras.layers.Dense(dense_units, activation='relu'),\n",
    "      tf.keras.layers.Dense(2, activation='softmax')\n",
    "  ])\n",
    "  return model"
   ]
  },
  {
   "cell_type": "markdown",
   "metadata": {
    "colab_type": "text",
    "id": "0ZKGkjagENSw"
   },
   "source": [
    "## [TensorBoard](https://keras.io/api/callbacks/tensorboard/)\n",
    "\n",
    "Enable visualizations for TensorBoard."
   ]
  },
  {
   "cell_type": "code",
   "execution_count": 9,
   "metadata": {
    "colab": {},
    "colab_type": "code",
    "id": "CeiD2WVEHbex"
   },
   "outputs": [],
   "source": [
    "!rm -rf logs"
   ]
  },
  {
   "cell_type": "code",
   "execution_count": 10,
   "metadata": {
    "colab": {},
    "colab_type": "code",
    "id": "PpLwPLnAEOzv"
   },
   "outputs": [
    {
     "name": "stdout",
     "output_type": "stream",
     "text": [
      "Epoch 1/10\n",
      "26/26 [==============================] - 21s 803ms/step - loss: 0.6564 - accuracy: 0.6022 - val_loss: 0.6454 - val_accuracy: 0.5902\n",
      "Epoch 2/10\n",
      "26/26 [==============================] - 20s 757ms/step - loss: 0.6005 - accuracy: 0.6849 - val_loss: 0.7183 - val_accuracy: 0.4537\n",
      "Epoch 3/10\n",
      "26/26 [==============================] - 20s 762ms/step - loss: 0.5492 - accuracy: 0.7591 - val_loss: 0.4894 - val_accuracy: 0.8195\n",
      "Epoch 4/10\n",
      "26/26 [==============================] - 20s 754ms/step - loss: 0.4829 - accuracy: 0.8041 - val_loss: 0.4218 - val_accuracy: 0.8780\n",
      "Epoch 5/10\n",
      "26/26 [==============================] - 20s 757ms/step - loss: 0.4096 - accuracy: 0.8516 - val_loss: 0.4511 - val_accuracy: 0.8000\n",
      "Epoch 6/10\n",
      "26/26 [==============================] - 19s 747ms/step - loss: 0.3320 - accuracy: 0.8796 - val_loss: 0.2873 - val_accuracy: 0.9024\n",
      "Epoch 7/10\n",
      "26/26 [==============================] - 19s 735ms/step - loss: 0.2939 - accuracy: 0.9063 - val_loss: 0.2335 - val_accuracy: 0.9220\n",
      "Epoch 8/10\n",
      "26/26 [==============================] - 19s 742ms/step - loss: 0.2477 - accuracy: 0.9136 - val_loss: 0.3558 - val_accuracy: 0.8537\n",
      "Epoch 9/10\n",
      "26/26 [==============================] - 19s 746ms/step - loss: 0.1895 - accuracy: 0.9489 - val_loss: 0.1329 - val_accuracy: 0.9854\n",
      "Epoch 10/10\n",
      "26/26 [==============================] - 19s 746ms/step - loss: 0.1558 - accuracy: 0.9586 - val_loss: 0.3177 - val_accuracy: 0.8341\n"
     ]
    },
    {
     "data": {
      "text/plain": [
       "<tensorflow.python.keras.callbacks.History at 0x7f1ab0826d50>"
      ]
     },
     "execution_count": 10,
     "metadata": {},
     "output_type": "execute_result"
    }
   ],
   "source": [
    "model = build_model(dense_units=256)\n",
    "model.compile(\n",
    "    optimizer='sgd',\n",
    "    loss='sparse_categorical_crossentropy', \n",
    "    metrics=['accuracy'])\n",
    "  \n",
    "logdir = os.path.join(\"logs\", datetime.datetime.now().strftime(\"%Y%m%d-%H%M%S\"))\n",
    "tensorboard_callback = tf.keras.callbacks.TensorBoard(logdir)\n",
    "\n",
    "model.fit(train_batches, \n",
    "          epochs=10, \n",
    "          validation_data=validation_batches, \n",
    "          callbacks=[tensorboard_callback])"
   ]
  },
  {
   "cell_type": "code",
   "execution_count": 34,
   "metadata": {
    "colab": {},
    "colab_type": "code",
    "id": "iJunWOjZE0ir"
   },
   "outputs": [
    {
     "data": {
      "text/plain": [
       "Reusing TensorBoard on port 6006 (pid 1176), started 0:37:49 ago. (Use '!kill 1176' to kill it.)"
      ]
     },
     "metadata": {},
     "output_type": "display_data"
    },
    {
     "data": {
      "text/html": [
       "\n",
       "      <iframe id=\"tensorboard-frame-e301ba41982b7957\" width=\"100%\" height=\"800\" frameborder=\"0\">\n",
       "      </iframe>\n",
       "      <script>\n",
       "        (function() {\n",
       "          const frame = document.getElementById(\"tensorboard-frame-e301ba41982b7957\");\n",
       "          const url = new URL(\"/\", window.location);\n",
       "          url.port = 6006;\n",
       "          frame.src = url;\n",
       "        })();\n",
       "      </script>\n",
       "  "
      ],
      "text/plain": [
       "<IPython.core.display.HTML object>"
      ]
     },
     "metadata": {},
     "output_type": "display_data"
    }
   ],
   "source": [
    "%tensorboard --logdir logs"
   ]
  },
  {
   "cell_type": "markdown",
   "metadata": {
    "colab_type": "text",
    "id": "wv9H4Pc2Mfl7"
   },
   "source": [
    "## [Model Checkpoint](https://keras.io/api/callbacks/model_checkpoint/)\n",
    "\n",
    "Callback to save the Keras model or model weights at some frequency."
   ]
  },
  {
   "cell_type": "code",
   "execution_count": 12,
   "metadata": {
    "colab": {},
    "colab_type": "code",
    "id": "PYV4FJ8iMmDq"
   },
   "outputs": [
    {
     "name": "stdout",
     "output_type": "stream",
     "text": [
      "Epoch 1/5\n",
      "\n",
      "Epoch 00001: saving model to weights.01-0.61.h5\n",
      "26/26 - 20s - loss: 0.6615 - accuracy: 0.6034 - val_loss: 0.6078 - val_accuracy: 0.7024\n",
      "Epoch 2/5\n",
      "\n",
      "Epoch 00002: saving model to weights.02-0.55.h5\n",
      "26/26 - 20s - loss: 0.5796 - accuracy: 0.7019 - val_loss: 0.5514 - val_accuracy: 0.7951\n",
      "Epoch 3/5\n",
      "\n",
      "Epoch 00003: saving model to weights.03-0.49.h5\n",
      "26/26 - 20s - loss: 0.5069 - accuracy: 0.7543 - val_loss: 0.4879 - val_accuracy: 0.8049\n",
      "Epoch 4/5\n",
      "\n",
      "Epoch 00004: saving model to weights.04-0.45.h5\n",
      "26/26 - 20s - loss: 0.4270 - accuracy: 0.8114 - val_loss: 0.4488 - val_accuracy: 0.8000\n",
      "Epoch 5/5\n",
      "\n",
      "Epoch 00005: saving model to weights.05-0.37.h5\n",
      "26/26 - 20s - loss: 0.3975 - accuracy: 0.8394 - val_loss: 0.3734 - val_accuracy: 0.8732\n"
     ]
    },
    {
     "data": {
      "text/plain": [
       "<tensorflow.python.keras.callbacks.History at 0x7f1aa3f94450>"
      ]
     },
     "execution_count": 12,
     "metadata": {},
     "output_type": "execute_result"
    }
   ],
   "source": [
    "model = build_model(dense_units=256)\n",
    "model.compile(\n",
    "    optimizer='sgd',\n",
    "    loss='sparse_categorical_crossentropy', \n",
    "    metrics=['accuracy'])\n",
    "  \n",
    "model.fit(train_batches, \n",
    "          epochs=5, \n",
    "          validation_data=validation_batches, \n",
    "          verbose=2,\n",
    "          callbacks=[ModelCheckpoint('weights.{epoch:02d}-{val_loss:.2f}.h5', verbose=1),\n",
    "          ])"
   ]
  },
  {
   "cell_type": "code",
   "execution_count": 13,
   "metadata": {
    "colab": {},
    "colab_type": "code",
    "id": "oGvjQ8IlMmK6"
   },
   "outputs": [
    {
     "name": "stdout",
     "output_type": "stream",
     "text": [
      "\n",
      "Epoch 00001: saving model to saved_model\n",
      "WARNING:tensorflow:From /opt/conda/lib/python3.7/site-packages/tensorflow_core/python/ops/resource_variable_ops.py:1786: calling BaseResourceVariable.__init__ (from tensorflow.python.ops.resource_variable_ops) with constraint is deprecated and will be removed in a future version.\n",
      "Instructions for updating:\n",
      "If using Keras pass *_constraint arguments to layers.\n"
     ]
    },
    {
     "name": "stderr",
     "output_type": "stream",
     "text": [
      "WARNING:tensorflow:From /opt/conda/lib/python3.7/site-packages/tensorflow_core/python/ops/resource_variable_ops.py:1786: calling BaseResourceVariable.__init__ (from tensorflow.python.ops.resource_variable_ops) with constraint is deprecated and will be removed in a future version.\n",
      "Instructions for updating:\n",
      "If using Keras pass *_constraint arguments to layers.\n"
     ]
    },
    {
     "name": "stdout",
     "output_type": "stream",
     "text": [
      "INFO:tensorflow:Assets written to: saved_model/assets\n"
     ]
    },
    {
     "name": "stderr",
     "output_type": "stream",
     "text": [
      "INFO:tensorflow:Assets written to: saved_model/assets\n"
     ]
    },
    {
     "name": "stdout",
     "output_type": "stream",
     "text": [
      "26/26 - 21s - loss: 0.6802 - accuracy: 0.5657 - val_loss: 0.6793 - val_accuracy: 0.4390\n"
     ]
    },
    {
     "data": {
      "text/plain": [
       "<tensorflow.python.keras.callbacks.History at 0x7f1aa3e0ab50>"
      ]
     },
     "execution_count": 13,
     "metadata": {},
     "output_type": "execute_result"
    }
   ],
   "source": [
    "model = build_model(dense_units=256)\n",
    "model.compile(\n",
    "    optimizer='sgd',\n",
    "    loss='sparse_categorical_crossentropy', \n",
    "    metrics=['accuracy'])\n",
    "  \n",
    "model.fit(train_batches, \n",
    "          epochs=1, \n",
    "          validation_data=validation_batches, \n",
    "          verbose=2,\n",
    "          callbacks=[ModelCheckpoint('saved_model', verbose=1)\n",
    "          ])"
   ]
  },
  {
   "cell_type": "code",
   "execution_count": 14,
   "metadata": {
    "colab": {},
    "colab_type": "code",
    "id": "Y1ConwoB0EjD"
   },
   "outputs": [
    {
     "name": "stdout",
     "output_type": "stream",
     "text": [
      "Epoch 1/2\n",
      "\n",
      "Epoch 00001: saving model to model.h5\n",
      "26/26 - 20s - loss: 0.6685 - accuracy: 0.6046 - val_loss: 0.6603 - val_accuracy: 0.5756\n",
      "Epoch 2/2\n",
      "\n",
      "Epoch 00002: saving model to model.h5\n",
      "26/26 - 22s - loss: 0.6155 - accuracy: 0.6886 - val_loss: 0.6189 - val_accuracy: 0.6341\n"
     ]
    },
    {
     "data": {
      "text/plain": [
       "<tensorflow.python.keras.callbacks.History at 0x7f1aa3bda410>"
      ]
     },
     "execution_count": 14,
     "metadata": {},
     "output_type": "execute_result"
    }
   ],
   "source": [
    "model = build_model(dense_units=256)\n",
    "model.compile(\n",
    "    optimizer='sgd',\n",
    "    loss='sparse_categorical_crossentropy', \n",
    "    metrics=['accuracy'])\n",
    "  \n",
    "model.fit(train_batches, \n",
    "          epochs=2, \n",
    "          validation_data=validation_batches, \n",
    "          verbose=2,\n",
    "          callbacks=[ModelCheckpoint('model.h5', verbose=1)\n",
    "          ])"
   ]
  },
  {
   "cell_type": "markdown",
   "metadata": {
    "colab_type": "text",
    "id": "kptNF0--Lznv"
   },
   "source": [
    "## [Early stopping](https://keras.io/api/callbacks/early_stopping/)\n",
    "\n",
    "Stop training when a monitored metric has stopped improving."
   ]
  },
  {
   "cell_type": "code",
   "execution_count": 15,
   "metadata": {
    "colab": {},
    "colab_type": "code",
    "id": "KJOJTJYdCkdY"
   },
   "outputs": [
    {
     "name": "stdout",
     "output_type": "stream",
     "text": [
      "Epoch 1/50\n",
      "26/26 - 20s - loss: 0.6716 - accuracy: 0.5900 - val_loss: 0.6741 - val_accuracy: 0.4390\n",
      "Epoch 2/50\n",
      "26/26 - 19s - loss: 0.6364 - accuracy: 0.6825 - val_loss: 0.6349 - val_accuracy: 0.6000\n",
      "Epoch 3/50\n",
      "26/26 - 19s - loss: 0.5903 - accuracy: 0.7202 - val_loss: 0.5675 - val_accuracy: 0.7268\n",
      "Epoch 4/50\n",
      "26/26 - 20s - loss: 0.5432 - accuracy: 0.7433 - val_loss: 0.4974 - val_accuracy: 0.7756\n",
      "Epoch 5/50\n",
      "26/26 - 19s - loss: 0.4871 - accuracy: 0.7871 - val_loss: 0.4467 - val_accuracy: 0.8341\n",
      "Epoch 6/50\n",
      "26/26 - 20s - loss: 0.4080 - accuracy: 0.8273 - val_loss: 0.5492 - val_accuracy: 0.6878\n",
      "Epoch 7/50\n",
      "26/26 - 21s - loss: 0.3871 - accuracy: 0.8273 - val_loss: 0.3663 - val_accuracy: 0.8780\n",
      "Epoch 8/50\n",
      "26/26 - 21s - loss: 0.3414 - accuracy: 0.8577 - val_loss: 0.3433 - val_accuracy: 0.8829\n",
      "Epoch 9/50\n",
      "26/26 - 22s - loss: 0.2942 - accuracy: 0.8917 - val_loss: 0.2441 - val_accuracy: 0.8976\n",
      "Epoch 10/50\n",
      "26/26 - 20s - loss: 0.2367 - accuracy: 0.9209 - val_loss: 0.1862 - val_accuracy: 0.9610\n",
      "Epoch 11/50\n",
      "26/26 - 22s - loss: 0.2122 - accuracy: 0.9404 - val_loss: 0.1522 - val_accuracy: 0.9561\n",
      "Epoch 12/50\n",
      "26/26 - 19s - loss: 0.1481 - accuracy: 0.9696 - val_loss: 0.1151 - val_accuracy: 0.9805\n",
      "Epoch 13/50\n",
      "26/26 - 19s - loss: 0.1727 - accuracy: 0.9440 - val_loss: 0.1298 - val_accuracy: 0.9610\n",
      "Epoch 14/50\n",
      "26/26 - 20s - loss: 0.1111 - accuracy: 0.9745 - val_loss: 0.1167 - val_accuracy: 0.9756\n",
      "Epoch 15/50\n",
      "Restoring model weights from the end of the best epoch.\n",
      "26/26 - 21s - loss: 0.0993 - accuracy: 0.9793 - val_loss: 0.1032 - val_accuracy: 0.9854\n",
      "Epoch 00015: early stopping\n"
     ]
    },
    {
     "data": {
      "text/plain": [
       "<tensorflow.python.keras.callbacks.History at 0x7f1aa3b08250>"
      ]
     },
     "execution_count": 15,
     "metadata": {},
     "output_type": "execute_result"
    }
   ],
   "source": [
    "model = build_model(dense_units=256)\n",
    "model.compile(\n",
    "    optimizer='sgd',\n",
    "    loss='sparse_categorical_crossentropy', \n",
    "    metrics=['accuracy'])\n",
    "  \n",
    "model.fit(train_batches, \n",
    "          epochs=50, \n",
    "          validation_data=validation_batches, \n",
    "          verbose=2,\n",
    "          callbacks=[EarlyStopping(\n",
    "              patience=3,\n",
    "              min_delta=0.05,\n",
    "              baseline=0.8,\n",
    "              mode='min',\n",
    "              monitor='val_loss',\n",
    "              restore_best_weights=True,\n",
    "              verbose=1)\n",
    "          ])"
   ]
  },
  {
   "cell_type": "markdown",
   "metadata": {
    "colab_type": "text",
    "id": "8mDzWUD4Pqq5"
   },
   "source": [
    "## [CSV Logger](https://keras.io/api/callbacks/csv_logger/)\n",
    "\n",
    "Callback that streams epoch results to a CSV file."
   ]
  },
  {
   "cell_type": "code",
   "execution_count": 16,
   "metadata": {
    "colab": {},
    "colab_type": "code",
    "id": "cffnMpmGPtMh"
   },
   "outputs": [
    {
     "name": "stdout",
     "output_type": "stream",
     "text": [
      "Epoch 1/5\n",
      "26/26 [==============================] - 22s 835ms/step - loss: 0.6636 - accuracy: 0.5730 - val_loss: 0.6344 - val_accuracy: 0.7854\n",
      "Epoch 2/5\n",
      "26/26 [==============================] - 20s 766ms/step - loss: 0.6091 - accuracy: 0.7141 - val_loss: 0.6383 - val_accuracy: 0.5366\n",
      "Epoch 3/5\n",
      "26/26 [==============================] - 21s 812ms/step - loss: 0.5518 - accuracy: 0.7470 - val_loss: 0.5356 - val_accuracy: 0.7610\n",
      "Epoch 4/5\n",
      "26/26 [==============================] - 21s 792ms/step - loss: 0.4827 - accuracy: 0.7798 - val_loss: 0.4765 - val_accuracy: 0.8195\n",
      "Epoch 5/5\n",
      "26/26 [==============================] - 20s 761ms/step - loss: 0.4460 - accuracy: 0.7956 - val_loss: 0.4221 - val_accuracy: 0.8585\n"
     ]
    },
    {
     "data": {
      "text/plain": [
       "<tensorflow.python.keras.callbacks.History at 0x7f1aa3943b90>"
      ]
     },
     "execution_count": 16,
     "metadata": {},
     "output_type": "execute_result"
    }
   ],
   "source": [
    "model = build_model(dense_units=256)\n",
    "model.compile(\n",
    "    optimizer='sgd',\n",
    "    loss='sparse_categorical_crossentropy', \n",
    "    metrics=['accuracy'])\n",
    "  \n",
    "csv_file = 'training.csv'\n",
    "\n",
    "model.fit(train_batches, \n",
    "          epochs=5, \n",
    "          validation_data=validation_batches, \n",
    "          callbacks=[CSVLogger(csv_file)\n",
    "          ])"
   ]
  },
  {
   "cell_type": "code",
   "execution_count": 17,
   "metadata": {
    "colab": {},
    "colab_type": "code",
    "id": "B9tkYi03QV7R"
   },
   "outputs": [
    {
     "data": {
      "text/html": [
       "<div>\n",
       "<style scoped>\n",
       "    .dataframe tbody tr th:only-of-type {\n",
       "        vertical-align: middle;\n",
       "    }\n",
       "\n",
       "    .dataframe tbody tr th {\n",
       "        vertical-align: top;\n",
       "    }\n",
       "\n",
       "    .dataframe thead th {\n",
       "        text-align: right;\n",
       "    }\n",
       "</style>\n",
       "<table border=\"1\" class=\"dataframe\">\n",
       "  <thead>\n",
       "    <tr style=\"text-align: right;\">\n",
       "      <th></th>\n",
       "      <th>epoch</th>\n",
       "      <th>accuracy</th>\n",
       "      <th>loss</th>\n",
       "      <th>val_accuracy</th>\n",
       "      <th>val_loss</th>\n",
       "    </tr>\n",
       "  </thead>\n",
       "  <tbody>\n",
       "    <tr>\n",
       "      <th>0</th>\n",
       "      <td>0</td>\n",
       "      <td>0.572993</td>\n",
       "      <td>0.664050</td>\n",
       "      <td>0.785366</td>\n",
       "      <td>0.634411</td>\n",
       "    </tr>\n",
       "    <tr>\n",
       "      <th>1</th>\n",
       "      <td>1</td>\n",
       "      <td>0.714112</td>\n",
       "      <td>0.608289</td>\n",
       "      <td>0.536585</td>\n",
       "      <td>0.638254</td>\n",
       "    </tr>\n",
       "    <tr>\n",
       "      <th>2</th>\n",
       "      <td>2</td>\n",
       "      <td>0.746959</td>\n",
       "      <td>0.552116</td>\n",
       "      <td>0.760976</td>\n",
       "      <td>0.535631</td>\n",
       "    </tr>\n",
       "    <tr>\n",
       "      <th>3</th>\n",
       "      <td>3</td>\n",
       "      <td>0.779805</td>\n",
       "      <td>0.483555</td>\n",
       "      <td>0.819512</td>\n",
       "      <td>0.476476</td>\n",
       "    </tr>\n",
       "    <tr>\n",
       "      <th>4</th>\n",
       "      <td>4</td>\n",
       "      <td>0.795620</td>\n",
       "      <td>0.444940</td>\n",
       "      <td>0.858537</td>\n",
       "      <td>0.422150</td>\n",
       "    </tr>\n",
       "  </tbody>\n",
       "</table>\n",
       "</div>"
      ],
      "text/plain": [
       "   epoch  accuracy      loss  val_accuracy  val_loss\n",
       "0      0  0.572993  0.664050      0.785366  0.634411\n",
       "1      1  0.714112  0.608289      0.536585  0.638254\n",
       "2      2  0.746959  0.552116      0.760976  0.535631\n",
       "3      3  0.779805  0.483555      0.819512  0.476476\n",
       "4      4  0.795620  0.444940      0.858537  0.422150"
      ]
     },
     "execution_count": 17,
     "metadata": {},
     "output_type": "execute_result"
    }
   ],
   "source": [
    "pd.read_csv(csv_file).head()"
   ]
  },
  {
   "cell_type": "markdown",
   "metadata": {
    "colab_type": "text",
    "id": "Dt9C2Y9fRBKN"
   },
   "source": [
    "## [Learning Rate Scheduler](https://keras.io/api/callbacks/learning_rate_scheduler/)\n",
    "\n",
    "Updates the learning rate during training."
   ]
  },
  {
   "cell_type": "code",
   "execution_count": 18,
   "metadata": {
    "colab": {},
    "colab_type": "code",
    "id": "aJi-xY2VRC03"
   },
   "outputs": [
    {
     "name": "stdout",
     "output_type": "stream",
     "text": [
      "\n",
      "Epoch 00001: LearningRateScheduler reducing learning rate to 0.005.\n",
      "Epoch 1/5\n",
      "26/26 [==============================] - 33s 1s/step - loss: 0.6798 - accuracy: 0.5693 - val_loss: 0.6758 - val_accuracy: 0.5561\n",
      "\n",
      "Epoch 00002: LearningRateScheduler reducing learning rate to 0.0025.\n",
      "Epoch 2/5\n",
      "26/26 [==============================] - 21s 792ms/step - loss: 0.6598 - accuracy: 0.6277 - val_loss: 0.6667 - val_accuracy: 0.5707\n",
      "\n",
      "Epoch 00003: LearningRateScheduler reducing learning rate to 0.00125.\n",
      "Epoch 3/5\n",
      "26/26 [==============================] - 21s 797ms/step - loss: 0.6490 - accuracy: 0.6338 - val_loss: 0.6603 - val_accuracy: 0.6000\n",
      "\n",
      "Epoch 00004: LearningRateScheduler reducing learning rate to 0.000625.\n",
      "Epoch 4/5\n",
      "26/26 [==============================] - 21s 804ms/step - loss: 0.6422 - accuracy: 0.6691 - val_loss: 0.6599 - val_accuracy: 0.5756\n",
      "\n",
      "Epoch 00005: LearningRateScheduler reducing learning rate to 0.0003125.\n",
      "Epoch 5/5\n",
      "26/26 [==============================] - 22s 846ms/step - loss: 0.6400 - accuracy: 0.6740 - val_loss: 0.6597 - val_accuracy: 0.5707\n"
     ]
    },
    {
     "data": {
      "text/plain": [
       "<tensorflow.python.keras.callbacks.History at 0x7f1aa17e7b10>"
      ]
     },
     "execution_count": 18,
     "metadata": {},
     "output_type": "execute_result"
    }
   ],
   "source": [
    "model = build_model(dense_units=256)\n",
    "model.compile(\n",
    "    optimizer='sgd',\n",
    "    loss='sparse_categorical_crossentropy', \n",
    "    metrics=['accuracy'])\n",
    "  \n",
    "def step_decay(epoch):\n",
    "    initial_lr = 0.01\n",
    "    drop = 0.5\n",
    "    epochs_drop = 1\n",
    "    lr = initial_lr * math.pow(drop, math.floor((1+epoch)/epochs_drop))\n",
    "    return lr\n",
    "\n",
    "model.fit(train_batches, \n",
    "          epochs=5, \n",
    "          validation_data=validation_batches, \n",
    "          callbacks=[LearningRateScheduler(step_decay, verbose=1),\n",
    "                    TensorBoard(log_dir='./log_dir')])"
   ]
  },
  {
   "cell_type": "code",
   "execution_count": 19,
   "metadata": {
    "colab": {},
    "colab_type": "code",
    "id": "M2S4n8nrbV91"
   },
   "outputs": [
    {
     "data": {
      "text/html": [
       "\n",
       "      <iframe id=\"tensorboard-frame-59c29e3f994d789d\" width=\"100%\" height=\"800\" frameborder=\"0\">\n",
       "      </iframe>\n",
       "      <script>\n",
       "        (function() {\n",
       "          const frame = document.getElementById(\"tensorboard-frame-59c29e3f994d789d\");\n",
       "          const url = new URL(\"/\", window.location);\n",
       "          url.port = 6007;\n",
       "          frame.src = url;\n",
       "        })();\n",
       "      </script>\n",
       "  "
      ],
      "text/plain": [
       "<IPython.core.display.HTML object>"
      ]
     },
     "metadata": {},
     "output_type": "display_data"
    }
   ],
   "source": [
    "%tensorboard --logdir log_dir"
   ]
  },
  {
   "cell_type": "markdown",
   "metadata": {
    "colab_type": "text",
    "id": "y0wcuQyJE_UK"
   },
   "source": [
    "## [ReduceLROnPlateau](https://keras.io/api/callbacks/reduce_lr_on_plateau/)\n",
    "\n",
    "Reduce learning rate when a metric has stopped improving."
   ]
  },
  {
   "cell_type": "code",
   "execution_count": 20,
   "metadata": {
    "colab": {},
    "colab_type": "code",
    "id": "4naxZ-eCFB27"
   },
   "outputs": [
    {
     "name": "stdout",
     "output_type": "stream",
     "text": [
      "Epoch 1/50\n",
      "26/26 [==============================] - 24s 914ms/step - loss: 0.6759 - accuracy: 0.5693 - val_loss: 0.6441 - val_accuracy: 0.5805\n",
      "Epoch 2/50\n",
      "26/26 [==============================] - 21s 803ms/step - loss: 0.6077 - accuracy: 0.6995 - val_loss: 0.5641 - val_accuracy: 0.8488\n",
      "Epoch 3/50\n",
      "26/26 [==============================] - 22s 849ms/step - loss: 0.5698 - accuracy: 0.7324 - val_loss: 0.5521 - val_accuracy: 0.6439\n",
      "Epoch 4/50\n",
      "26/26 [==============================] - 21s 819ms/step - loss: 0.4933 - accuracy: 0.7822 - val_loss: 0.4278 - val_accuracy: 0.8634\n",
      "Epoch 5/50\n",
      "26/26 [==============================] - 22s 839ms/step - loss: 0.4296 - accuracy: 0.8151 - val_loss: 0.3894 - val_accuracy: 0.8244\n",
      "Epoch 6/50\n",
      "26/26 [==============================] - 21s 812ms/step - loss: 0.3912 - accuracy: 0.8309 - val_loss: 0.2973 - val_accuracy: 0.9268\n",
      "Epoch 7/50\n",
      "26/26 [==============================] - 21s 804ms/step - loss: 0.2912 - accuracy: 0.9088 - val_loss: 0.2208 - val_accuracy: 0.9415\n",
      "Epoch 8/50\n",
      "26/26 [==============================] - 21s 800ms/step - loss: 0.2576 - accuracy: 0.9270 - val_loss: 0.1704 - val_accuracy: 0.9805\n",
      "Epoch 9/50\n",
      "26/26 [==============================] - 22s 860ms/step - loss: 0.2087 - accuracy: 0.9343 - val_loss: 0.1352 - val_accuracy: 0.9854\n",
      "Epoch 10/50\n",
      "26/26 [==============================] - 21s 790ms/step - loss: 0.1645 - accuracy: 0.9538 - val_loss: 0.1108 - val_accuracy: 0.9854\n",
      "Epoch 11/50\n",
      "25/26 [===========================>..] - ETA: 0s - loss: 0.1374 - accuracy: 0.9600\n",
      "Epoch 00011: ReduceLROnPlateau reducing learning rate to 0.0019999999552965165.\n",
      "26/26 [==============================] - 21s 808ms/step - loss: 0.1409 - accuracy: 0.9562 - val_loss: 0.1658 - val_accuracy: 0.9317\n",
      "Epoch 12/50\n",
      "26/26 [==============================] - 21s 800ms/step - loss: 0.1115 - accuracy: 0.9805 - val_loss: 0.0851 - val_accuracy: 0.9902\n",
      "Epoch 13/50\n",
      "26/26 [==============================] - 21s 811ms/step - loss: 0.0972 - accuracy: 0.9842 - val_loss: 0.0814 - val_accuracy: 0.9902\n",
      "Epoch 14/50\n",
      "26/26 [==============================] - 22s 827ms/step - loss: 0.0921 - accuracy: 0.9842 - val_loss: 0.0780 - val_accuracy: 0.9902\n",
      "Epoch 15/50\n",
      "25/26 [===========================>..] - ETA: 0s - loss: 0.0885 - accuracy: 0.9862\n",
      "Epoch 00015: ReduceLROnPlateau reducing learning rate to 0.001.\n",
      "26/26 [==============================] - 21s 804ms/step - loss: 0.0895 - accuracy: 0.9854 - val_loss: 0.0805 - val_accuracy: 0.9902\n",
      "Epoch 16/50\n",
      "25/26 [===========================>..] - ETA: 0s - loss: 0.0863 - accuracy: 0.9837\n",
      "Epoch 00016: ReduceLROnPlateau reducing learning rate to 0.001.\n",
      "26/26 [==============================] - 20s 785ms/step - loss: 0.0862 - accuracy: 0.9842 - val_loss: 0.0783 - val_accuracy: 0.9902\n",
      "Epoch 17/50\n",
      "26/26 [==============================] - 20s 751ms/step - loss: 0.0842 - accuracy: 0.9830 - val_loss: 0.0737 - val_accuracy: 0.9902\n",
      "Epoch 18/50\n",
      "26/26 [==============================] - 20s 753ms/step - loss: 0.0832 - accuracy: 0.9866 - val_loss: 0.0725 - val_accuracy: 0.9902\n",
      "Epoch 19/50\n",
      "26/26 [==============================] - 20s 754ms/step - loss: 0.0811 - accuracy: 0.9854 - val_loss: 0.0712 - val_accuracy: 0.9902\n",
      "Epoch 20/50\n",
      "25/26 [===========================>..] - ETA: 0s - loss: 0.0784 - accuracy: 0.9875\n",
      "Epoch 00020: ReduceLROnPlateau reducing learning rate to 0.001.\n",
      "26/26 [==============================] - 19s 746ms/step - loss: 0.0809 - accuracy: 0.9866 - val_loss: 0.0722 - val_accuracy: 0.9902\n",
      "Epoch 21/50\n",
      "26/26 [==============================] - 20s 753ms/step - loss: 0.0798 - accuracy: 0.9854 - val_loss: 0.0686 - val_accuracy: 0.9902\n",
      "Epoch 22/50\n",
      "26/26 [==============================] - 20s 762ms/step - loss: 0.0774 - accuracy: 0.9891 - val_loss: 0.0682 - val_accuracy: 0.9902\n",
      "Epoch 23/50\n",
      "25/26 [===========================>..] - ETA: 0s - loss: 0.0756 - accuracy: 0.9862\n",
      "Epoch 00023: ReduceLROnPlateau reducing learning rate to 0.001.\n",
      "26/26 [==============================] - 21s 796ms/step - loss: 0.0766 - accuracy: 0.9866 - val_loss: 0.0686 - val_accuracy: 0.9902\n",
      "Epoch 24/50\n",
      "26/26 [==============================] - 19s 746ms/step - loss: 0.0755 - accuracy: 0.9866 - val_loss: 0.0663 - val_accuracy: 0.9902\n",
      "Epoch 25/50\n",
      "25/26 [===========================>..] - ETA: 0s - loss: 0.0738 - accuracy: 0.9875\n",
      "Epoch 00025: ReduceLROnPlateau reducing learning rate to 0.001.\n",
      "26/26 [==============================] - 19s 739ms/step - loss: 0.0735 - accuracy: 0.9878 - val_loss: 0.0670 - val_accuracy: 0.9902\n",
      "Epoch 26/50\n",
      "25/26 [===========================>..] - ETA: 0s - loss: 0.0731 - accuracy: 0.9862\n",
      "Epoch 00026: ReduceLROnPlateau reducing learning rate to 0.001.\n",
      "26/26 [==============================] - 19s 750ms/step - loss: 0.0725 - accuracy: 0.9866 - val_loss: 0.0667 - val_accuracy: 0.9902\n",
      "Epoch 27/50\n",
      "26/26 [==============================] - 19s 746ms/step - loss: 0.0715 - accuracy: 0.9866 - val_loss: 0.0639 - val_accuracy: 0.9902\n",
      "Epoch 28/50\n",
      "25/26 [===========================>..] - ETA: 0s - loss: 0.0716 - accuracy: 0.9862\n",
      "Epoch 00028: ReduceLROnPlateau reducing learning rate to 0.001.\n",
      "26/26 [==============================] - 20s 761ms/step - loss: 0.0699 - accuracy: 0.9866 - val_loss: 0.0645 - val_accuracy: 0.9902\n",
      "Epoch 29/50\n",
      "26/26 [==============================] - 20s 758ms/step - loss: 0.0694 - accuracy: 0.9878 - val_loss: 0.0623 - val_accuracy: 0.9902\n",
      "Epoch 30/50\n",
      "25/26 [===========================>..] - ETA: 0s - loss: 0.0690 - accuracy: 0.9875\n",
      "Epoch 00030: ReduceLROnPlateau reducing learning rate to 0.001.\n",
      "26/26 [==============================] - 19s 738ms/step - loss: 0.0681 - accuracy: 0.9878 - val_loss: 0.0630 - val_accuracy: 0.9902\n",
      "Epoch 31/50\n",
      "26/26 [==============================] - 20s 754ms/step - loss: 0.0672 - accuracy: 0.9878 - val_loss: 0.0618 - val_accuracy: 0.9902\n",
      "Epoch 32/50\n",
      "26/26 [==============================] - 20s 781ms/step - loss: 0.0664 - accuracy: 0.9891 - val_loss: 0.0609 - val_accuracy: 0.9902\n",
      "Epoch 33/50\n",
      "25/26 [===========================>..] - ETA: 0s - loss: 0.0660 - accuracy: 0.9875\n",
      "Epoch 00033: ReduceLROnPlateau reducing learning rate to 0.001.\n",
      "26/26 [==============================] - 20s 750ms/step - loss: 0.0648 - accuracy: 0.9878 - val_loss: 0.0624 - val_accuracy: 0.9902\n",
      "Epoch 34/50\n",
      "26/26 [==============================] - 20s 788ms/step - loss: 0.0640 - accuracy: 0.9878 - val_loss: 0.0607 - val_accuracy: 0.9902\n",
      "Epoch 35/50\n",
      "26/26 [==============================] - 20s 755ms/step - loss: 0.0645 - accuracy: 0.9878 - val_loss: 0.0601 - val_accuracy: 0.9902\n",
      "Epoch 36/50\n",
      "25/26 [===========================>..] - ETA: 0s - loss: 0.0610 - accuracy: 0.9900\n",
      "Epoch 00036: ReduceLROnPlateau reducing learning rate to 0.001.\n",
      "26/26 [==============================] - 20s 761ms/step - loss: 0.0628 - accuracy: 0.9891 - val_loss: 0.0627 - val_accuracy: 0.9902\n",
      "Epoch 37/50\n",
      "26/26 [==============================] - 19s 742ms/step - loss: 0.0621 - accuracy: 0.9878 - val_loss: 0.0590 - val_accuracy: 0.9902\n",
      "Epoch 38/50\n",
      "26/26 [==============================] - 20s 754ms/step - loss: 0.0608 - accuracy: 0.9891 - val_loss: 0.0588 - val_accuracy: 0.9902\n",
      "Epoch 39/50\n",
      "26/26 [==============================] - 20s 751ms/step - loss: 0.0600 - accuracy: 0.9891 - val_loss: 0.0576 - val_accuracy: 0.9902\n",
      "Epoch 40/50\n",
      "26/26 [==============================] - 20s 788ms/step - loss: 0.0589 - accuracy: 0.9866 - val_loss: 0.0558 - val_accuracy: 0.9902\n",
      "Epoch 41/50\n",
      "25/26 [===========================>..] - ETA: 0s - loss: 0.0579 - accuracy: 0.9875\n",
      "Epoch 00041: ReduceLROnPlateau reducing learning rate to 0.001.\n",
      "26/26 [==============================] - 20s 762ms/step - loss: 0.0573 - accuracy: 0.9878 - val_loss: 0.0590 - val_accuracy: 0.9902\n",
      "Epoch 42/50\n",
      "26/26 [==============================] - 20s 753ms/step - loss: 0.0577 - accuracy: 0.9891 - val_loss: 0.0554 - val_accuracy: 0.9902\n",
      "Epoch 43/50\n",
      "26/26 [==============================] - 20s 766ms/step - loss: 0.0563 - accuracy: 0.9891 - val_loss: 0.0547 - val_accuracy: 0.9902\n",
      "Epoch 44/50\n",
      "25/26 [===========================>..] - ETA: 0s - loss: 0.0548 - accuracy: 0.9912\n",
      "Epoch 00044: ReduceLROnPlateau reducing learning rate to 0.001.\n",
      "26/26 [==============================] - 20s 757ms/step - loss: 0.0568 - accuracy: 0.9903 - val_loss: 0.0560 - val_accuracy: 0.9902\n",
      "Epoch 45/50\n",
      "26/26 [==============================] - 20s 772ms/step - loss: 0.0548 - accuracy: 0.9891 - val_loss: 0.0542 - val_accuracy: 0.9902\n",
      "Epoch 46/50\n",
      "25/26 [===========================>..] - ETA: 0s - loss: 0.0554 - accuracy: 0.9887\n",
      "Epoch 00046: ReduceLROnPlateau reducing learning rate to 0.001.\n",
      "26/26 [==============================] - 20s 770ms/step - loss: 0.0543 - accuracy: 0.9891 - val_loss: 0.0550 - val_accuracy: 0.9902\n",
      "Epoch 47/50\n",
      "25/26 [===========================>..] - ETA: 0s - loss: 0.0538 - accuracy: 0.9900\n",
      "Epoch 00047: ReduceLROnPlateau reducing learning rate to 0.001.\n",
      "26/26 [==============================] - 20s 762ms/step - loss: 0.0542 - accuracy: 0.9891 - val_loss: 0.0549 - val_accuracy: 0.9902\n",
      "Epoch 48/50\n",
      "26/26 [==============================] - 21s 789ms/step - loss: 0.0530 - accuracy: 0.9903 - val_loss: 0.0514 - val_accuracy: 0.9902\n",
      "Epoch 49/50\n",
      "25/26 [===========================>..] - ETA: 0s - loss: 0.0499 - accuracy: 0.9912\n",
      "Epoch 00049: ReduceLROnPlateau reducing learning rate to 0.001.\n",
      "26/26 [==============================] - 19s 749ms/step - loss: 0.0533 - accuracy: 0.9903 - val_loss: 0.0526 - val_accuracy: 0.9902\n",
      "Epoch 50/50\n",
      "25/26 [===========================>..] - ETA: 0s - loss: 0.0521 - accuracy: 0.9900\n",
      "Epoch 00050: ReduceLROnPlateau reducing learning rate to 0.001.\n",
      "26/26 [==============================] - 20s 766ms/step - loss: 0.0517 - accuracy: 0.9903 - val_loss: 0.0541 - val_accuracy: 0.9902\n"
     ]
    },
    {
     "data": {
      "text/plain": [
       "<tensorflow.python.keras.callbacks.History at 0x7f1aa16e2a50>"
      ]
     },
     "execution_count": 20,
     "metadata": {},
     "output_type": "execute_result"
    }
   ],
   "source": [
    "model = build_model(dense_units=256)\n",
    "model.compile(\n",
    "    optimizer='sgd',\n",
    "    loss='sparse_categorical_crossentropy', \n",
    "    metrics=['accuracy'])\n",
    "  \n",
    "model.fit(train_batches, \n",
    "          epochs=50, \n",
    "          validation_data=validation_batches, \n",
    "          callbacks=[ReduceLROnPlateau(monitor='val_loss', \n",
    "                                       factor=0.2, verbose=1,\n",
    "                                       patience=1, min_lr=0.001),\n",
    "                     TensorBoard(log_dir='./log_dir')])"
   ]
  },
  {
   "cell_type": "code",
   "execution_count": 21,
   "metadata": {
    "colab": {},
    "colab_type": "code",
    "id": "isfTWP4NYudk"
   },
   "outputs": [
    {
     "data": {
      "text/plain": [
       "Reusing TensorBoard on port 6007 (pid 4390), started 0:16:53 ago. (Use '!kill 4390' to kill it.)"
      ]
     },
     "metadata": {},
     "output_type": "display_data"
    },
    {
     "data": {
      "text/html": [
       "\n",
       "      <iframe id=\"tensorboard-frame-9d6ffc017bdbee80\" width=\"100%\" height=\"800\" frameborder=\"0\">\n",
       "      </iframe>\n",
       "      <script>\n",
       "        (function() {\n",
       "          const frame = document.getElementById(\"tensorboard-frame-9d6ffc017bdbee80\");\n",
       "          const url = new URL(\"/\", window.location);\n",
       "          url.port = 6007;\n",
       "          frame.src = url;\n",
       "        })();\n",
       "      </script>\n",
       "  "
      ],
      "text/plain": [
       "<IPython.core.display.HTML object>"
      ]
     },
     "metadata": {},
     "output_type": "display_data"
    }
   ],
   "source": [
    "%tensorboard --logdir log_dir"
   ]
  }
 ],
 "metadata": {
  "colab": {
   "collapsed_sections": [],
   "include_colab_link": true,
   "name": "ExploringCallbacks.ipynb",
   "provenance": []
  },
  "kernelspec": {
   "display_name": "Python 3",
   "language": "python",
   "name": "python3"
  },
  "language_info": {
   "codemirror_mode": {
    "name": "ipython",
    "version": 3
   },
   "file_extension": ".py",
   "mimetype": "text/x-python",
   "name": "python",
   "nbconvert_exporter": "python",
   "pygments_lexer": "ipython3",
   "version": "3.7.6"
  }
 },
 "nbformat": 4,
 "nbformat_minor": 4
}
